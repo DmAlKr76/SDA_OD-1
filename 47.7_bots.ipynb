{
 "cells": [
  {
   "cell_type": "markdown",
   "metadata": {},
   "source": [
    "### ЗАДАНИЕ:"
   ]
  },
  {
   "cell_type": "markdown",
   "metadata": {},
   "source": [
    "1. Оценить количество ботов, которые заходят на наш сайт, и их долю от всего трафика.\n",
    "2. Определить, с каких источников и в какое время суток чаще всего заходят роботы."
   ]
  },
  {
   "cell_type": "markdown",
   "metadata": {},
   "source": [
    "Импортируем модули, прописываем хэдер для авторизации."
   ]
  },
  {
   "cell_type": "code",
   "execution_count": 610,
   "metadata": {},
   "outputs": [],
   "source": [
    "import json \n",
    "import requests\n",
    "from pprint import pprint\n",
    "import pandas as pd\n",
    "\n",
    "token = 'ЗДЕСЬ НУЖЕН ТОКЕН'\n",
    "headers = {'Authorization': 'OAuth ' + token}"
   ]
  },
  {
   "cell_type": "markdown",
   "metadata": {},
   "source": [
    "Формируем параметры запроса, производим и обрабатываем запрос."
   ]
  },
  {
   "cell_type": "code",
   "execution_count": 611,
   "metadata": {},
   "outputs": [
    {
     "name": "stdout",
     "output_type": "stream",
     "text": [
      "200\n",
      "                                          dimensions               metrics\n",
      "0  [{'icon_id': '2', 'icon_type': 'traffic-source...  [251.0, 24.70119522]\n",
      "1  [{'icon_id': '2', 'icon_type': 'traffic-source...        [240.0, 26.25]\n",
      "2  [{'icon_id': '2', 'icon_type': 'traffic-source...  [228.0, 25.87719298]\n",
      "3  [{'icon_id': '2', 'icon_type': 'traffic-source...   [227.0, 28.1938326]\n",
      "4  [{'icon_id': '2', 'icon_type': 'traffic-source...  [225.0, 24.88888889]\n",
      "5  [{'icon_id': '2', 'icon_type': 'traffic-source...  [225.0, 25.77777778]\n",
      "6  [{'icon_id': '2', 'icon_type': 'traffic-source...  [209.0, 26.31578947]\n",
      "7  [{'icon_id': '2', 'icon_type': 'traffic-source...  [186.0, 19.35483871]\n",
      "8  [{'icon_id': '2', 'icon_type': 'traffic-source...  [166.0, 17.46987952]\n",
      "9  [{'icon_id': '2', 'icon_type': 'traffic-source...  [161.0, 23.60248447]\n",
      "<class 'pandas.core.frame.DataFrame'>\n",
      "RangeIndex: 107 entries, 0 to 106\n",
      "Data columns (total 2 columns):\n",
      " #   Column      Non-Null Count  Dtype \n",
      "---  ------      --------------  ----- \n",
      " 0   dimensions  107 non-null    object\n",
      " 1   metrics     107 non-null    object\n",
      "dtypes: object(2)\n",
      "memory usage: 1.8+ KB\n",
      "None\n"
     ]
    }
   ],
   "source": [
    "params = {'metrics': 'ym:s:visits,ym:s:robotPercentage',\n",
    "          'dimensions': 'ym:s:lastsignTrafficSource,ym:s:hour',  \n",
    "          'date1': '2020-09-01',  \n",
    "          'date2': '2020-09-30',     \n",
    "          'ids': 30177909,\n",
    "          'accuracy':'full',\n",
    "          'limit':100000}\n",
    "response = requests.get('https://api-metrika.yandex.net/stat/v1/data', params=params, headers=headers)\n",
    "print (response.status_code)\n",
    "metrika_data = response.json()\n",
    "metrika_df = pd.DataFrame(metrika_data['data'])\n",
    "print(metrika_df.head(10))\n",
    "print(metrika_df.info())"
   ]
  },
  {
   "cell_type": "markdown",
   "metadata": {},
   "source": [
    "Преобразуем данные, избавившись от вложенных словарей с помощью функции, и запишем их в новую переменную."
   ]
  },
  {
   "cell_type": "code",
   "execution_count": 612,
   "metadata": {},
   "outputs": [
    {
     "name": "stdout",
     "output_type": "stream",
     "text": [
      "[{'ym:s:hour': '16:00',\n",
      "  'ym:s:lastsignTrafficSource': 'Search engine traffic',\n",
      "  'ym:s:robotPercentage': 24.70119522,\n",
      "  'ym:s:visits': 251.0},\n",
      " {'ym:s:hour': '15:00',\n",
      "  'ym:s:lastsignTrafficSource': 'Search engine traffic',\n",
      "  'ym:s:robotPercentage': 26.25,\n",
      "  'ym:s:visits': 240.0},\n",
      " {'ym:s:hour': '11:00',\n",
      "  'ym:s:lastsignTrafficSource': 'Search engine traffic',\n",
      "  'ym:s:robotPercentage': 25.87719298,\n",
      "  'ym:s:visits': 228.0},\n",
      " {'ym:s:hour': '13:00',\n",
      "  'ym:s:lastsignTrafficSource': 'Search engine traffic',\n",
      "  'ym:s:robotPercentage': 28.1938326,\n",
      "  'ym:s:visits': 227.0},\n",
      " {'ym:s:hour': '12:00',\n",
      "  'ym:s:lastsignTrafficSource': 'Search engine traffic',\n",
      "  'ym:s:robotPercentage': 24.88888889,\n",
      "  'ym:s:visits': 225.0}]\n"
     ]
    }
   ],
   "source": [
    "def getMetrikaDataInListOfDicts(metrika_data):\n",
    "    list_of_dicts = []\n",
    "    dimensions_list = metrika_data['query']['dimensions']\n",
    "    metrics_list = metrika_data['query']['metrics']\n",
    "    for data_item in metrika_data['data']:\n",
    "        d = {}\n",
    "        for i,dimension in enumerate(data_item['dimensions']):\n",
    "            d[dimensions_list[i]] = dimension['name']\n",
    "        for i,metric in enumerate(data_item['metrics']):\n",
    "            d[metrics_list[i]] = metric\n",
    "        list_of_dicts.append(d)\n",
    "    return list_of_dicts\n",
    "\n",
    "metrika_list_of_dicts = getMetrikaDataInListOfDicts(metrika_data)\n",
    "pprint(metrika_list_of_dicts[0:5])"
   ]
  },
  {
   "cell_type": "markdown",
   "metadata": {},
   "source": [
    "Из преобразованных данных создаем датафрейм."
   ]
  },
  {
   "cell_type": "code",
   "execution_count": 613,
   "metadata": {},
   "outputs": [
    {
     "name": "stdout",
     "output_type": "stream",
     "text": [
      "  ym:s:lastsignTrafficSource ym:s:hour  ym:s:visits  ym:s:robotPercentage\n",
      "0      Search engine traffic     16:00        251.0             24.701195\n",
      "1      Search engine traffic     15:00        240.0             26.250000\n",
      "2      Search engine traffic     11:00        228.0             25.877193\n",
      "3      Search engine traffic     13:00        227.0             28.193833\n",
      "4      Search engine traffic     12:00        225.0             24.888889\n",
      "5      Search engine traffic     14:00        225.0             25.777778\n",
      "6      Search engine traffic     17:00        209.0             26.315789\n",
      "7      Search engine traffic     10:00        186.0             19.354839\n",
      "8      Search engine traffic     21:00        166.0             17.469880\n",
      "9      Search engine traffic     19:00        161.0             23.602484\n",
      "<class 'pandas.core.frame.DataFrame'>\n",
      "RangeIndex: 107 entries, 0 to 106\n",
      "Data columns (total 4 columns):\n",
      " #   Column                      Non-Null Count  Dtype  \n",
      "---  ------                      --------------  -----  \n",
      " 0   ym:s:lastsignTrafficSource  107 non-null    object \n",
      " 1   ym:s:hour                   107 non-null    object \n",
      " 2   ym:s:visits                 107 non-null    float64\n",
      " 3   ym:s:robotPercentage        107 non-null    float64\n",
      "dtypes: float64(2), object(2)\n",
      "memory usage: 3.5+ KB\n",
      "None\n"
     ]
    }
   ],
   "source": [
    "metrika_df = pd.DataFrame(metrika_list_of_dicts)\n",
    "print(metrika_df.head(10))\n",
    "print(metrika_df.info())"
   ]
  },
  {
   "cell_type": "markdown",
   "metadata": {},
   "source": [
    "Переименуем столбцы. Оценим количество ботов, которые заходят на сайт."
   ]
  },
  {
   "cell_type": "code",
   "execution_count": 614,
   "metadata": {},
   "outputs": [
    {
     "name": "stdout",
     "output_type": "stream",
     "text": [
      "Колличество визитов ботов в сентябре 2020 года: 962.\n",
      "Доля визитов ботов от общего трафика в сентябре 2020 года: 22.29 процентов.\n"
     ]
    }
   ],
   "source": [
    "metrika_df.columns=['source', 'hour', 'visits', 'percentage']\n",
    "# сумма всех визитов\n",
    "sum_of_visits = metrika_df['visits'].sum()\n",
    "# добавим колонку количества визитов ботов\n",
    "metrika_df['bot_visits'] = metrika_df['visits'] * metrika_df['percentage'] / 100\n",
    "# сумма визитов ботов\n",
    "sum_of_bot_visits = metrika_df['bot_visits'].sum()\n",
    "# доля от всего трафика\n",
    "percent_of_bot_visits = sum_of_bot_visits / sum_of_visits * 100\n",
    "sum_of_bot_visits = round(sum_of_bot_visits)\n",
    "percent_of_bot_visits = round(percent_of_bot_visits, 2)\n",
    "print('Колличество визитов ботов в сентябре 2020 года: {}.'.format(sum_of_bot_visits))\n",
    "print('Доля визитов ботов от общего трафика в сентябре 2020 года: {} процентов.'.format(percent_of_bot_visits))"
   ]
  },
  {
   "cell_type": "markdown",
   "metadata": {},
   "source": [
    "Определим, из каких источников и в какое время суток чаще всего заходят роботы."
   ]
  },
  {
   "cell_type": "code",
   "execution_count": 615,
   "metadata": {},
   "outputs": [
    {
     "name": "stdout",
     "output_type": "stream",
     "text": [
      "Количество визитов ботов по источникам:\n",
      "                               visits  bot_visits\n",
      "source                                           \n",
      "Search engine traffic          3334.0       739.0\n",
      "Direct traffic                  757.0       177.0\n",
      "Link traffic                    126.0        31.0\n",
      "Social network traffic           80.0        11.0\n",
      "Internal traffic                 10.0         3.0\n",
      "Cached page traffic               6.0         1.0\n",
      "Recommendation system traffic     2.0         0.0\n"
     ]
    }
   ],
   "source": [
    "# удаляем лишние столбцы\n",
    "metrika_df2 = metrika_df.drop(['percentage', 'hour'], axis=1)\n",
    "# группируем по источнику с агреггированием сумм по визитам, сортируем\n",
    "metrika_df2 = metrika_df2.groupby(by='source')[['visits', 'bot_visits']].apply(sum)\n",
    "metrika_df2 = metrika_df2.sort_values('bot_visits', ascending=False)\n",
    "print('Количество визитов ботов по источникам:')\n",
    "print(metrika_df2)"
   ]
  },
  {
   "cell_type": "code",
   "execution_count": 616,
   "metadata": {},
   "outputs": [
    {
     "name": "stdout",
     "output_type": "stream",
     "text": [
      "Количество визитов ботов по времени суток:\n",
      "       visits  bot_visits\n",
      "group                    \n",
      "День   1745.0       441.0\n",
      "Вечер  1190.0       238.0\n",
      "Утро   1022.0       228.0\n",
      "Ночь    358.0        55.0\n"
     ]
    }
   ],
   "source": [
    "# приводим столбец к типу datatime\n",
    "metrika_df['hour'] = pd.to_datetime(metrika_df['hour'])\n",
    "# добавляем столбец с часом, применив функцию к уже имеющемуся\n",
    "metrika_df['hour2'] = metrika_df['hour'].dt.hour\n",
    "# задаем множества значений для определения признаков времени\n",
    "night = {0, 1, 2, 3, 4, 5}\n",
    "morning = {6, 7, 8, 9, 10, 11}\n",
    "afternoon = {12, 13, 14, 15, 16, 17}\n",
    "evening = {18, 19, 20, 21, 22, 23}\n",
    "# добавляем столбец с принадлежностью к группе, применив функцию с признаком времени\n",
    "metrika_df['group']=metrika_df.apply(\n",
    "    lambda x: 'Ночь' if x['hour2'] in night else (\n",
    "                'Утро' if x['hour2'] in morning else (\n",
    "                'День' if x['hour2'] in afternoon else (\n",
    "                'Вечер' if x['hour2'] in evening else 'Нет данных'))\n",
    "            ), \n",
    "    axis=1)\n",
    "# удаляем ненужные столбцы\n",
    "metrika_df3 = metrika_df.drop(['source', 'percentage', 'hour', 'hour2'], axis=1)\n",
    "# группируем по времени визита с агреггированием сумм по визитам, сортируем\n",
    "metrika_df3 = metrika_df3.groupby(by='group')[['visits', 'bot_visits']].apply(sum)\n",
    "metrika_df3 = metrika_df3.sort_values('bot_visits', ascending=False)\n",
    "\n",
    "print('Количество визитов ботов по времени суток:')\n",
    "print(metrika_df3)"
   ]
  },
  {
   "cell_type": "markdown",
   "metadata": {},
   "source": [
    "### ВЫВОД"
   ]
  },
  {
   "cell_type": "markdown",
   "metadata": {},
   "source": [
    "Количество визитов ботов в сентябре 2020 года составляет 962 единицы (или 22.29% от общего трафика). Наибольшее количество визитов из источников 'Search engine traffic' и 'Direct traffic'. Больше всего визиты ботов осуществляются днем, в равной степени утром и вечером."
   ]
  }
 ],
 "metadata": {
  "interpreter": {
   "hash": "2be5faf79681da6f2a61fdfdd5405d65d042280f7fba6178067603e3a2925119"
  },
  "kernelspec": {
   "display_name": "Python 3.10.0 64-bit",
   "language": "python",
   "name": "python3"
  },
  "language_info": {
   "codemirror_mode": {
    "name": "ipython",
    "version": 3
   },
   "file_extension": ".py",
   "mimetype": "text/x-python",
   "name": "python",
   "nbconvert_exporter": "python",
   "pygments_lexer": "ipython3",
   "version": "3.9.7"
  },
  "orig_nbformat": 4
 },
 "nbformat": 4,
 "nbformat_minor": 2
}
